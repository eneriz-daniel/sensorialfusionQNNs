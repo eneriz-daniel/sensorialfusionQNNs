{
 "cells": [
  {
   "cell_type": "markdown",
   "metadata": {},
   "source": [
    "# Usage of the QNN with PYNQ\n",
    "\n",
    "In this notebook we are going to show you how to control the neural network using Python. The first thing to do is to load the overlat generated with Vivado (in the same folder there must be the .bit file and the .hwh one)."
   ]
  },
  {
   "cell_type": "code",
   "execution_count": 1,
   "metadata": {},
   "outputs": [],
   "source": [
    "import numpy as np\n",
    "import matplotlib.pyplot as plt"
   ]
  },
  {
   "cell_type": "code",
   "execution_count": 2,
   "metadata": {},
   "outputs": [
    {
     "data": {
      "application/javascript": [
       "\n",
       "try {\n",
       "require(['notebook/js/codecell'], function(codecell) {\n",
       "  codecell.CodeCell.options_default.highlight_modes[\n",
       "      'magic_text/x-csrc'] = {'reg':[/^%%microblaze/]};\n",
       "  Jupyter.notebook.events.one('kernel_ready.Kernel', function(){\n",
       "      Jupyter.notebook.get_cells().map(function(cell){\n",
       "          if (cell.cell_type == 'code'){ cell.auto_highlight(); } }) ;\n",
       "  });\n",
       "});\n",
       "} catch (e) {};\n"
      ]
     },
     "metadata": {},
     "output_type": "display_data"
    }
   ],
   "source": [
    "from pynq import Overlay\n",
    "overlay = Overlay('/home/xilinx/pynq/overlays/gas_nn/gas_nn.bit')"
   ]
  },
  {
   "cell_type": "markdown",
   "metadata": {},
   "source": [
    "Once the overlay is loaded, the model can be initilizaed as following."
   ]
  },
  {
   "cell_type": "code",
   "execution_count": 3,
   "metadata": {},
   "outputs": [],
   "source": [
    "model = overlay.gas_nn"
   ]
  },
  {
   "cell_type": "markdown",
   "metadata": {},
   "source": [
    "One can try to use `model.register_map` but the size of the registeres seems to be incompatible with this functionality, so we need to code an specific driver to use the neural network block."
   ]
  },
  {
   "cell_type": "code",
   "execution_count": 4,
   "metadata": {},
   "outputs": [
    {
     "name": "stderr",
     "output_type": "stream",
     "text": [
      "/usr/local/lib/python3.6/dist-packages/pynq/registers.py:422: UserWarning: Unsupported register size 1024 for register Memory_w01_V\n",
      "  v[2], k\n",
      "/usr/local/lib/python3.6/dist-packages/pynq/registers.py:422: UserWarning: Unsupported register size 1024 for register Memory_w12_V\n",
      "  v[2], k\n"
     ]
    },
    {
     "ename": "TypeError",
     "evalue": "ufunc 'right_shift' not supported for the input types, and the inputs could not be safely coerced to any supported types according to the casting rule ''safe''",
     "output_type": "error",
     "traceback": [
      "\u001b[0;31m---------------------------------------------------------------------------\u001b[0m",
      "\u001b[0;31mTypeError\u001b[0m                                 Traceback (most recent call last)",
      "\u001b[0;32m/usr/lib/python3/dist-packages/IPython/core/formatters.py\u001b[0m in \u001b[0;36m__call__\u001b[0;34m(self, obj)\u001b[0m\n\u001b[1;32m    697\u001b[0m                 \u001b[0mtype_pprinters\u001b[0m\u001b[0;34m=\u001b[0m\u001b[0mself\u001b[0m\u001b[0;34m.\u001b[0m\u001b[0mtype_printers\u001b[0m\u001b[0;34m,\u001b[0m\u001b[0;34m\u001b[0m\u001b[0m\n\u001b[1;32m    698\u001b[0m                 deferred_pprinters=self.deferred_printers)\n\u001b[0;32m--> 699\u001b[0;31m             \u001b[0mprinter\u001b[0m\u001b[0;34m.\u001b[0m\u001b[0mpretty\u001b[0m\u001b[0;34m(\u001b[0m\u001b[0mobj\u001b[0m\u001b[0;34m)\u001b[0m\u001b[0;34m\u001b[0m\u001b[0m\n\u001b[0m\u001b[1;32m    700\u001b[0m             \u001b[0mprinter\u001b[0m\u001b[0;34m.\u001b[0m\u001b[0mflush\u001b[0m\u001b[0;34m(\u001b[0m\u001b[0;34m)\u001b[0m\u001b[0;34m\u001b[0m\u001b[0m\n\u001b[1;32m    701\u001b[0m             \u001b[0;32mreturn\u001b[0m \u001b[0mstream\u001b[0m\u001b[0;34m.\u001b[0m\u001b[0mgetvalue\u001b[0m\u001b[0;34m(\u001b[0m\u001b[0;34m)\u001b[0m\u001b[0;34m\u001b[0m\u001b[0m\n",
      "\u001b[0;32m/usr/lib/python3/dist-packages/IPython/lib/pretty.py\u001b[0m in \u001b[0;36mpretty\u001b[0;34m(self, obj)\u001b[0m\n\u001b[1;32m    396\u001b[0m                             \u001b[0;32mif\u001b[0m \u001b[0mcallable\u001b[0m\u001b[0;34m(\u001b[0m\u001b[0mmeth\u001b[0m\u001b[0;34m)\u001b[0m\u001b[0;34m:\u001b[0m\u001b[0;34m\u001b[0m\u001b[0m\n\u001b[1;32m    397\u001b[0m                                 \u001b[0;32mreturn\u001b[0m \u001b[0mmeth\u001b[0m\u001b[0;34m(\u001b[0m\u001b[0mobj\u001b[0m\u001b[0;34m,\u001b[0m \u001b[0mself\u001b[0m\u001b[0;34m,\u001b[0m \u001b[0mcycle\u001b[0m\u001b[0;34m)\u001b[0m\u001b[0;34m\u001b[0m\u001b[0m\n\u001b[0;32m--> 398\u001b[0;31m             \u001b[0;32mreturn\u001b[0m \u001b[0m_default_pprint\u001b[0m\u001b[0;34m(\u001b[0m\u001b[0mobj\u001b[0m\u001b[0;34m,\u001b[0m \u001b[0mself\u001b[0m\u001b[0;34m,\u001b[0m \u001b[0mcycle\u001b[0m\u001b[0;34m)\u001b[0m\u001b[0;34m\u001b[0m\u001b[0m\n\u001b[0m\u001b[1;32m    399\u001b[0m         \u001b[0;32mfinally\u001b[0m\u001b[0;34m:\u001b[0m\u001b[0;34m\u001b[0m\u001b[0m\n\u001b[1;32m    400\u001b[0m             \u001b[0mself\u001b[0m\u001b[0;34m.\u001b[0m\u001b[0mend_group\u001b[0m\u001b[0;34m(\u001b[0m\u001b[0;34m)\u001b[0m\u001b[0;34m\u001b[0m\u001b[0m\n",
      "\u001b[0;32m/usr/lib/python3/dist-packages/IPython/lib/pretty.py\u001b[0m in \u001b[0;36m_default_pprint\u001b[0;34m(obj, p, cycle)\u001b[0m\n\u001b[1;32m    516\u001b[0m     \u001b[0;32mif\u001b[0m \u001b[0m_safe_getattr\u001b[0m\u001b[0;34m(\u001b[0m\u001b[0mklass\u001b[0m\u001b[0;34m,\u001b[0m \u001b[0;34m'__repr__'\u001b[0m\u001b[0;34m,\u001b[0m \u001b[0;32mNone\u001b[0m\u001b[0;34m)\u001b[0m \u001b[0;32mnot\u001b[0m \u001b[0;32min\u001b[0m \u001b[0m_baseclass_reprs\u001b[0m\u001b[0;34m:\u001b[0m\u001b[0;34m\u001b[0m\u001b[0m\n\u001b[1;32m    517\u001b[0m         \u001b[0;31m# A user-provided repr. Find newlines and replace them with p.break_()\u001b[0m\u001b[0;34m\u001b[0m\u001b[0;34m\u001b[0m\u001b[0m\n\u001b[0;32m--> 518\u001b[0;31m         \u001b[0m_repr_pprint\u001b[0m\u001b[0;34m(\u001b[0m\u001b[0mobj\u001b[0m\u001b[0;34m,\u001b[0m \u001b[0mp\u001b[0m\u001b[0;34m,\u001b[0m \u001b[0mcycle\u001b[0m\u001b[0;34m)\u001b[0m\u001b[0;34m\u001b[0m\u001b[0m\n\u001b[0m\u001b[1;32m    519\u001b[0m         \u001b[0;32mreturn\u001b[0m\u001b[0;34m\u001b[0m\u001b[0m\n\u001b[1;32m    520\u001b[0m     \u001b[0mp\u001b[0m\u001b[0;34m.\u001b[0m\u001b[0mbegin_group\u001b[0m\u001b[0;34m(\u001b[0m\u001b[0;36m1\u001b[0m\u001b[0;34m,\u001b[0m \u001b[0;34m'<'\u001b[0m\u001b[0;34m)\u001b[0m\u001b[0;34m\u001b[0m\u001b[0m\n",
      "\u001b[0;32m/usr/lib/python3/dist-packages/IPython/lib/pretty.py\u001b[0m in \u001b[0;36m_repr_pprint\u001b[0;34m(obj, p, cycle)\u001b[0m\n\u001b[1;32m    707\u001b[0m     \u001b[0;34m\"\"\"A pprint that just redirects to the normal repr function.\"\"\"\u001b[0m\u001b[0;34m\u001b[0m\u001b[0m\n\u001b[1;32m    708\u001b[0m     \u001b[0;31m# Find newlines and replace them with p.break_()\u001b[0m\u001b[0;34m\u001b[0m\u001b[0;34m\u001b[0m\u001b[0m\n\u001b[0;32m--> 709\u001b[0;31m     \u001b[0moutput\u001b[0m \u001b[0;34m=\u001b[0m \u001b[0mrepr\u001b[0m\u001b[0;34m(\u001b[0m\u001b[0mobj\u001b[0m\u001b[0;34m)\u001b[0m\u001b[0;34m\u001b[0m\u001b[0m\n\u001b[0m\u001b[1;32m    710\u001b[0m     \u001b[0;32mfor\u001b[0m \u001b[0midx\u001b[0m\u001b[0;34m,\u001b[0m\u001b[0moutput_line\u001b[0m \u001b[0;32min\u001b[0m \u001b[0menumerate\u001b[0m\u001b[0;34m(\u001b[0m\u001b[0moutput\u001b[0m\u001b[0;34m.\u001b[0m\u001b[0msplitlines\u001b[0m\u001b[0;34m(\u001b[0m\u001b[0;34m)\u001b[0m\u001b[0;34m)\u001b[0m\u001b[0;34m:\u001b[0m\u001b[0;34m\u001b[0m\u001b[0m\n\u001b[1;32m    711\u001b[0m         \u001b[0;32mif\u001b[0m \u001b[0midx\u001b[0m\u001b[0;34m:\u001b[0m\u001b[0;34m\u001b[0m\u001b[0m\n",
      "\u001b[0;32m/usr/local/lib/python3.6/dist-packages/pynq/registers.py\u001b[0m in \u001b[0;36m__repr__\u001b[0;34m(self)\u001b[0m\n\u001b[1;32m    436\u001b[0m         \u001b[0;32mfor\u001b[0m \u001b[0mk\u001b[0m\u001b[0;34m,\u001b[0m \u001b[0mv\u001b[0m \u001b[0;32min\u001b[0m \u001b[0mself\u001b[0m\u001b[0;34m.\u001b[0m\u001b[0m_instances\u001b[0m\u001b[0;34m.\u001b[0m\u001b[0mitems\u001b[0m\u001b[0;34m(\u001b[0m\u001b[0;34m)\u001b[0m\u001b[0;34m:\u001b[0m\u001b[0;34m\u001b[0m\u001b[0m\n\u001b[1;32m    437\u001b[0m             register_info.append(\n\u001b[0;32m--> 438\u001b[0;31m                 \"  {} = {}\".format(k, repr(v)))\n\u001b[0m\u001b[1;32m    439\u001b[0m         \u001b[0;32mreturn\u001b[0m \u001b[0;34m\"RegisterMap {\\n\"\u001b[0m \u001b[0;34m+\u001b[0m \u001b[0;34m\",\\n\"\u001b[0m\u001b[0;34m.\u001b[0m\u001b[0mjoin\u001b[0m\u001b[0;34m(\u001b[0m\u001b[0mregister_info\u001b[0m\u001b[0;34m)\u001b[0m \u001b[0;34m+\u001b[0m \u001b[0;34m\"\\n}\"\u001b[0m\u001b[0;34m\u001b[0m\u001b[0m\n\u001b[1;32m    440\u001b[0m \u001b[0;34m\u001b[0m\u001b[0m\n",
      "\u001b[0;32m/usr/local/lib/python3.6/dist-packages/pynq/registers.py\u001b[0m in \u001b[0;36m__repr__\u001b[0;34m(self)\u001b[0m\n\u001b[1;32m    275\u001b[0m             \u001b[0;32mreturn\u001b[0m \u001b[0;34m\"Register({})\"\u001b[0m\u001b[0;34m.\u001b[0m\u001b[0mformat\u001b[0m\u001b[0;34m(\u001b[0m\u001b[0;34m\", \"\u001b[0m\u001b[0;34m.\u001b[0m\u001b[0mjoin\u001b[0m\u001b[0;34m(\u001b[0m\u001b[0mfield_desc\u001b[0m\u001b[0;34m)\u001b[0m\u001b[0;34m)\u001b[0m\u001b[0;34m\u001b[0m\u001b[0m\n\u001b[1;32m    276\u001b[0m         \u001b[0;32melse\u001b[0m\u001b[0;34m:\u001b[0m\u001b[0;34m\u001b[0m\u001b[0m\n\u001b[0;32m--> 277\u001b[0;31m             \u001b[0;32mreturn\u001b[0m \u001b[0;34m\"Register(value={})\"\u001b[0m\u001b[0;34m.\u001b[0m\u001b[0mformat\u001b[0m\u001b[0;34m(\u001b[0m\u001b[0mself\u001b[0m\u001b[0;34m[\u001b[0m\u001b[0;34m:\u001b[0m\u001b[0;34m]\u001b[0m\u001b[0;34m)\u001b[0m\u001b[0;34m\u001b[0m\u001b[0m\n\u001b[0m\u001b[1;32m    278\u001b[0m \u001b[0;34m\u001b[0m\u001b[0m\n\u001b[1;32m    279\u001b[0m     \u001b[0;32mdef\u001b[0m \u001b[0m__int__\u001b[0m\u001b[0;34m(\u001b[0m\u001b[0mself\u001b[0m\u001b[0;34m)\u001b[0m\u001b[0;34m:\u001b[0m\u001b[0;34m\u001b[0m\u001b[0m\n",
      "\u001b[0;32m/usr/local/lib/python3.6/dist-packages/pynq/registers.py\u001b[0m in \u001b[0;36m__getitem__\u001b[0;34m(self, index)\u001b[0m\n\u001b[1;32m    164\u001b[0m             \u001b[0;32mif\u001b[0m \u001b[0mstart\u001b[0m \u001b[0;34m>=\u001b[0m \u001b[0mstop\u001b[0m\u001b[0;34m:\u001b[0m\u001b[0;34m\u001b[0m\u001b[0m\n\u001b[1;32m    165\u001b[0m                 \u001b[0mmask\u001b[0m \u001b[0;34m=\u001b[0m \u001b[0;34m(\u001b[0m\u001b[0;34m(\u001b[0m\u001b[0;36m1\u001b[0m \u001b[0;34m<<\u001b[0m \u001b[0;34m(\u001b[0m\u001b[0mstart\u001b[0m \u001b[0;34m-\u001b[0m \u001b[0mstop\u001b[0m \u001b[0;34m+\u001b[0m \u001b[0;36m1\u001b[0m\u001b[0;34m)\u001b[0m\u001b[0;34m)\u001b[0m \u001b[0;34m-\u001b[0m \u001b[0;36m1\u001b[0m\u001b[0;34m)\u001b[0m \u001b[0;34m<<\u001b[0m \u001b[0mstop\u001b[0m\u001b[0;34m\u001b[0m\u001b[0m\n\u001b[0;32m--> 166\u001b[0;31m                 \u001b[0;32mreturn\u001b[0m \u001b[0mint\u001b[0m\u001b[0;34m(\u001b[0m\u001b[0;34m(\u001b[0m\u001b[0mcurr_val\u001b[0m \u001b[0;34m&\u001b[0m \u001b[0mmask\u001b[0m\u001b[0;34m)\u001b[0m \u001b[0;34m>>\u001b[0m \u001b[0mstop\u001b[0m\u001b[0;34m)\u001b[0m\u001b[0;34m\u001b[0m\u001b[0m\n\u001b[0m\u001b[1;32m    167\u001b[0m             \u001b[0;32melse\u001b[0m\u001b[0;34m:\u001b[0m\u001b[0;34m\u001b[0m\u001b[0m\n\u001b[1;32m    168\u001b[0m                 \u001b[0mwidth\u001b[0m \u001b[0;34m=\u001b[0m \u001b[0mstop\u001b[0m \u001b[0;34m-\u001b[0m \u001b[0mstart\u001b[0m \u001b[0;34m+\u001b[0m \u001b[0;36m1\u001b[0m\u001b[0;34m\u001b[0m\u001b[0m\n",
      "\u001b[0;31mTypeError\u001b[0m: ufunc 'right_shift' not supported for the input types, and the inputs could not be safely coerced to any supported types according to the casting rule ''safe''"
     ]
    }
   ],
   "source": [
    "model.register_map"
   ]
  },
  {
   "cell_type": "markdown",
   "metadata": {},
   "source": [
    "## The driver\n",
    "\n",
    "First we need to finde the port configuration. In the Vivado HLS implementation it has been generated, been saved in the dollowing file.  `.../[HLSproyect]/[solutionX]/impl/misc/drivers/[ip_block_name]/src/x[ip_block_name]_hw.h`\n",
    "\n",
    "In our case, this contains\n",
    "\n",
    "```\n",
    "// ==============================================================\n",
    "// Vivado(TM) HLS - High-Level Synthesis from C, C++ and SystemC v2019.2 (64-bit)\n",
    "// Copyright 1986-2019 Xilinx, Inc. All Rights Reserved.\n",
    "// ==============================================================\n",
    "// AXILiteS\n",
    "// 0x0020 ~\n",
    "// 0x003f : Memory 'in_V' (16 * 12b)\n",
    "//          Word n : bit [11: 0] - in_V[2n]\n",
    "//                   bit [27:16] - in_V[2n+1]\n",
    "//                   others      - reserved\n",
    "// 0x0400 ~\n",
    "// 0x07ff : Memory 'w01_V' (512 * 12b)\n",
    "//          Word n : bit [11: 0] - w01_V[2n]\n",
    "//                   bit [27:16] - w01_V[2n+1]\n",
    "//                   others      - reserved\n",
    "// 0x0800 ~\n",
    "// 0x083f : Memory 'b01_V' (32 * 12b)\n",
    "//          Word n : bit [11: 0] - b01_V[2n]\n",
    "//                   bit [27:16] - b01_V[2n+1]\n",
    "//                   others      - reserved\n",
    "// 0x0c00 ~\n",
    "// 0x0fff : Memory 'w12_V' (384 * 12b)\n",
    "//          Word n : bit [11: 0] - w12_V[2n]\n",
    "//                   bit [27:16] - w12_V[2n+1]\n",
    "//                   others      - reserved\n",
    "// 0x1000 ~\n",
    "// 0x101f : Memory 'b12_V' (12 * 12b)\n",
    "//          Word n : bit [11: 0] - b12_V[2n]\n",
    "//                   bit [27:16] - b12_V[2n+1]\n",
    "//                   others      - reserved\n",
    "// 0x1040 ~\n",
    "// 0x107f : Memory 'w23_V' (24 * 12b)\n",
    "//          Word n : bit [11: 0] - w23_V[2n]\n",
    "//                   bit [27:16] - w23_V[2n+1]\n",
    "//                   others      - reserved\n",
    "// 0x1080 ~\n",
    "// 0x1087 : Memory 'b23_V' (2 * 12b)\n",
    "//          Word n : bit [11: 0] - b23_V[2n]\n",
    "//                   bit [27:16] - b23_V[2n+1]\n",
    "//                   others      - reserved\n",
    "// 0x1088 ~\n",
    "// 0x108f : Memory 'out_V' (2 * 12b)\n",
    "//          Word n : bit [11: 0] - out_V[2n]\n",
    "//                   bit [27:16] - out_V[2n+1]\n",
    "//                   others      - reserved\n",
    "// (SC = Self Clear, COR = Clear on Read, TOW = Toggle on Write, COH = Clear on Handshake)\n",
    "\n",
    "```"
   ]
  },
  {
   "cell_type": "markdown",
   "metadata": {},
   "source": [
    "Using the DefaultIP driver functions write and read, we can code an specific driver to write and read the information we want in the ports we need."
   ]
  },
  {
   "cell_type": "code",
   "execution_count": 5,
   "metadata": {},
   "outputs": [],
   "source": [
    "from pynq import DefaultIP\n",
    "from bitstring import Bits\n",
    "\n",
    "class GasNN(DefaultIP):\n",
    "    def __init__(self,description):\n",
    "        super().__init__(description=description)\n",
    "    \n",
    "    def set_params(self, path_pesos):\n",
    "        \n",
    "        \"\"\"\n",
    "        It allows to write the parameters on the IP.\n",
    "        The input must be a valid .npz file with the\n",
    "        parameters sorted as following: 'w01', 'b01',\n",
    "        'w12', 'b12', 'w23', 'b23'\n",
    "        \"\"\"\n",
    "        w01 = np.load(path_pesos)['w01']\n",
    "        b01 = np.load(path_pesos)['b01']\n",
    "        w12 = np.load(path_pesos)['w12']\n",
    "        b12 = np.load(path_pesos)['b12']\n",
    "        w23 = np.load(path_pesos)['w23']\n",
    "        b23 = np.load(path_pesos)['b23']\n",
    "        \n",
    "        #Starting with the w01 matrix weights\n",
    "        self.write_array(w01.flatten('F'), 0x0400)\n",
    "        #The same with b01 y and the others. The bias are already flatten.\n",
    "        self.write_array(b01, 0x0800)\n",
    "            \n",
    "        self.write_array(w12.flatten('F'), 0x0c00)\n",
    "        self.write_array(b12, 0x1000)\n",
    "        \n",
    "        self.write_array(w23.flatten('F'), 0x1040)  \n",
    "        self.write_array(b23, 0x1080)\n",
    "            \n",
    "    def pred(self, gassens):\n",
    "\n",
    "        \"\"\"\n",
    "        Use it to predict the gas concentration based\n",
    "        on the gassens levels. It returns the\n",
    "        concentration of the CH4 and the C2H4\n",
    "        \"\"\"\n",
    "        from time import sleep\n",
    "        \n",
    "        self.write_array(gassens, 0x0020)\n",
    "        \n",
    "        sleep(1e-3)\n",
    "        \n",
    "        out = Bits(int=self.read(0x1088), length=32)\n",
    "        eth=(out[4:16]).int/(2**9)\n",
    "        ch4=(out[20:]).int/(2**9)\n",
    "\n",
    "        return ch4, eth\n",
    "    \n",
    "    def write_array(self, inputArray, offset):\n",
    "        \"\"\"\n",
    "        It recieves and array and an initial offset and writes the\n",
    "        array data starting from the initial offset register usign\n",
    "        the following format:\n",
    "        Memory 'inputArray' (512 * 12b)\n",
    "                           Word n : bit [11: 0] - inputArray[2n]\n",
    "                                    bit [27:16] - inputArray[2n+1]\n",
    "                                    others      - reserved\n",
    "        \"\"\"\n",
    "        for i in range(int(len(inputArray)/2)):\n",
    "            try:\n",
    "                self.write(offset,('0b0000'+Bits(int=int(round(inputArray[2*i+1]*(2**9))), length=12)+\n",
    "                                   '0b0000'+Bits(int=int(round(inputArray[2*i]*(2**9))), length=12)).int)\n",
    "            except:\n",
    "                print(inputArray[2*i], inputArray[2*i+1])\n",
    "                print(round(inputArray[2*i]*(2**9)), round(inputArray[2*i+1]*(2**9)))\n",
    "                raise\n",
    "            \n",
    "            offset+=4\n",
    "        \n",
    "    \n",
    "    bindto = [overlay.ip_dict['gas_nn']['type']] #This should be 'xilinx.com:hls:gas_nn:1.0'\n",
    "    \n",
    "        \n",
    "        \n",
    "        "
   ]
  },
  {
   "cell_type": "markdown",
   "metadata": {},
   "source": [
    "## How to use it\n",
    "It is necessary to reload the overlay to assing the new driver to the xilinx.com:hls:gas_nn:1.0 block"
   ]
  },
  {
   "cell_type": "code",
   "execution_count": 6,
   "metadata": {},
   "outputs": [],
   "source": [
    "overlay = Overlay('/home/xilinx/pynq/overlays/gas_nn/gas_nn.bit')"
   ]
  },
  {
   "cell_type": "code",
   "execution_count": 7,
   "metadata": {},
   "outputs": [],
   "source": [
    "model = overlay.gas_nn"
   ]
  },
  {
   "cell_type": "markdown",
   "metadata": {},
   "source": [
    "The parameters can be loaded as"
   ]
  },
  {
   "cell_type": "code",
   "execution_count": 8,
   "metadata": {},
   "outputs": [],
   "source": [
    "model.set_params('eth-ch4-params-quant.npz')"
   ]
  },
  {
   "cell_type": "markdown",
   "metadata": {},
   "source": [
    "We read the filtered time series in order to predict it"
   ]
  },
  {
   "cell_type": "code",
   "execution_count": 9,
   "metadata": {},
   "outputs": [],
   "source": [
    "t, CH4, Eth = np.loadtxt('ethylene_methane.txt', skiprows=1, usecols=(0,1,2), unpack=True)\n",
    "sens = np.loadtxt('ethylene_methane.txt', skiprows=1, usecols=(3,4,5,6,7,8,9,10,11,12,13,14,15,16,17,18))"
   ]
  },
  {
   "cell_type": "markdown",
   "metadata": {},
   "source": [
    "Now we can try to predict one element of the time series"
   ]
  },
  {
   "cell_type": "code",
   "execution_count": 10,
   "metadata": {
    "scrolled": false
   },
   "outputs": [
    {
     "name": "stdout",
     "output_type": "stream",
     "text": [
      "\t\t   CH4    C2H4\n",
      "Model predictions: (0.375, 0.51171875) \n",
      "Actual values:    0.337074864327 0.5\n"
     ]
    }
   ],
   "source": [
    "elto=258\n",
    "print('\\t\\t   CH4    C2H4\\nModel predictions:', model.pred(sens[elto,:]), '\\nActual values:   ', CH4[elto], Eth[elto])"
   ]
  },
  {
   "cell_type": "markdown",
   "metadata": {},
   "source": [
    "It works! Let's try in all the time series"
   ]
  },
  {
   "cell_type": "code",
   "execution_count": 11,
   "metadata": {},
   "outputs": [],
   "source": [
    "CH4FPGA = np.empty_like(CH4)\n",
    "EthFPGA = np.empty_like(Eth)\n",
    "for i in range(len(t)):\n",
    "    (CH4FPGA[i], EthFPGA[i]) = model.pred(sens[i, :])\n",
    "    \n",
    "CH4max, CH4min, Ethmax, Ethmin = 296.67, 0.0, 20.0, 0.0\n",
    "\n",
    "errCH4 = np.abs(((CH4FPGA-CH4)*(CH4max-CH4min)+CH4min)/(CH4max-CH4min))*100\n",
    "errEth = np.abs(((EthFPGA-Eth)*(Ethmax-Ethmin)+Ethmin)/(Ethmax-Ethmin))*100\n"
   ]
  },
  {
   "cell_type": "code",
   "execution_count": 12,
   "metadata": {},
   "outputs": [
    {
     "data": {
      "image/png": "[encoded data removed]",
      "text/plain": [
       "<matplotlib.figure.Figure at 0xae181cf0>"
      ]
     },
     "metadata": {},
     "output_type": "display_data"
    }
   ],
   "source": [
    "orig = 6350\n",
    "fin = orig + 2000\n",
    "\n",
    "fig, axs = plt.subplots(nrows=2, ncols=2,  sharey='row', figsize=(12.0,4.0))\n",
    "\n",
    "axs[0,0].fill_between(t[np.logical_and(orig<t, t<fin)], CH4[np.logical_and(orig<t, t<fin)], color='C0', alpha=0.4, step='post', label='CH4 real')\n",
    "axs[0,1].fill_between(t[np.logical_and(orig<t, t<fin)], Eth[np.logical_and(orig<t, t<fin)], color='C1', alpha=0.4, step='post', label='C2H4 real')\n",
    "\n",
    "axs[0,0].step(t[np.logical_and(orig<t, t<fin)], CH4FPGA[np.logical_and(orig<t, t<fin)], 'C0--', where='post', label='CH4 FPGA')\n",
    "axs[0,1].step(t[np.logical_and(orig<t, t<fin)], EthFPGA[np.logical_and(orig<t, t<fin)], 'C1--', where='post', label='C2H4 FPGA')\n",
    "\n",
    "#ax2.step(t[np.logical_and(orig<t, t<fin)], errTot[np.logical_and(orig<t, t<fin)], 'gray', where='post', label='Error total')\n",
    "axs[1,0].step(t[np.logical_and(orig<t, t<fin)], errCH4[np.logical_and(orig<t, t<fin)], 'C0:', where='post', label='Error CH4')\n",
    "axs[1,1].step(t[np.logical_and(orig<t, t<fin)], errEth[np.logical_and(orig<t, t<fin)], 'C1:', where='post', label='Error C2H4')\n",
    "\n",
    "\n",
    "for i in range(2): \n",
    "    for j in range(2): axs[i,j].set_xlabel('Time (s)')\n",
    "axs[0,0].set_ylabel('Normalized concentration')\n",
    "axs[1,0].set_ylabel('Range error (%)')\n",
    "\n",
    "axs[0,0].legend(loc='lower right')\n",
    "axs[0,1].legend(loc='lower left')\n",
    "\n",
    "plt.tight_layout()\n",
    "fig.subplots_adjust(wspace=0, hspace=0.4)\n",
    "\n",
    "plt.savefig(\"time-series-FPGA-12-3-\"+str(orig)+\"-\"+str(fin)+\".png\",dpi=600)\n"
   ]
  },
  {
   "cell_type": "code",
   "execution_count": 14,
   "metadata": {},
   "outputs": [
    {
     "data": {
      "text/plain": [
       "(2.5184265492320534, 2.5414711676217765)"
      ]
     },
     "execution_count": 14,
     "metadata": {},
     "output_type": "execute_result"
    }
   ],
   "source": [
    "np.average(errCH4),np.average(errEth)"
   ]
  },
  {
   "cell_type": "markdown",
   "metadata": {},
   "source": [
    "Save the data"
   ]
  },
  {
   "cell_type": "code",
   "execution_count": 13,
   "metadata": {},
   "outputs": [],
   "source": [
    "np.savez('time-series-fpga.npz', CH4FPGA=CH4FPGA, EthFPGA=EthFPGA)"
   ]
  }
 ],
 "metadata": {
  "kernelspec": {
   "display_name": "Python 3",
   "language": "python",
   "name": "python3"
  },
  "language_info": {
   "codemirror_mode": {
    "name": "ipython",
    "version": 3
   },
   "file_extension": ".py",
   "mimetype": "text/x-python",
   "name": "python",
   "nbconvert_exporter": "python",
   "pygments_lexer": "ipython3",
   "version": "3.6.5"
  }
 },
 "nbformat": 4,
 "nbformat_minor": 2
}
